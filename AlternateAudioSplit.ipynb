{
  "cells": [
    {
      "cell_type": "code",
      "execution_count": 1,
      "metadata": {
        "id": "Q6-yPQUSJ9b_",
        "colab": {
          "base_uri": "https://localhost:8080/"
        },
        "outputId": "a03ac6e6-5303-4607-ae33-e18639e40075"
      },
      "outputs": [
        {
          "output_type": "stream",
          "name": "stdout",
          "text": [
            "Looking in indexes: https://pypi.org/simple, https://us-python.pkg.dev/colab-wheels/public/simple/\n",
            "Collecting praatio\n",
            "  Downloading praatio-6.0.0-py3-none-any.whl (79 kB)\n",
            "\u001b[2K     \u001b[90m━━━━━━━━━━━━━━━━━━━━━━━━━━━━━━━━━━━━━━━━\u001b[0m \u001b[32m79.2/79.2 KB\u001b[0m \u001b[31m2.4 MB/s\u001b[0m eta \u001b[36m0:00:00\u001b[0m\n",
            "\u001b[?25hRequirement already satisfied: typing-extensions in /usr/local/lib/python3.9/dist-packages (from praatio) (4.5.0)\n",
            "Installing collected packages: praatio\n",
            "Successfully installed praatio-6.0.0\n"
          ]
        }
      ],
      "source": [
        "pip install praatio"
      ]
    },
    {
      "cell_type": "code",
      "execution_count": 2,
      "metadata": {
        "id": "xLUCk3BbwmH2",
        "colab": {
          "base_uri": "https://localhost:8080/"
        },
        "outputId": "64052697-7cec-40fa-a4f6-4b1002a699e4"
      },
      "outputs": [
        {
          "output_type": "stream",
          "name": "stdout",
          "text": [
            "Looking in indexes: https://pypi.org/simple, https://us-python.pkg.dev/colab-wheels/public/simple/\n",
            "Collecting pydub\n",
            "  Downloading pydub-0.25.1-py2.py3-none-any.whl (32 kB)\n",
            "Installing collected packages: pydub\n",
            "Successfully installed pydub-0.25.1\n"
          ]
        }
      ],
      "source": [
        "pip install pydub"
      ]
    },
    {
      "cell_type": "code",
      "execution_count": 3,
      "metadata": {
        "id": "fMbGwz8zjzvO",
        "colab": {
          "base_uri": "https://localhost:8080/"
        },
        "outputId": "465bdf5e-175c-462a-c0db-3d94033a1632"
      },
      "outputs": [
        {
          "output_type": "stream",
          "name": "stdout",
          "text": [
            "Looking in indexes: https://pypi.org/simple, https://us-python.pkg.dev/colab-wheels/public/simple/\n",
            "Requirement already satisfied: librosa in /usr/local/lib/python3.9/dist-packages (0.10.0.post2)\n",
            "Requirement already satisfied: pooch<1.7,>=1.0 in /usr/local/lib/python3.9/dist-packages (from librosa) (1.6.0)\n",
            "Requirement already satisfied: joblib>=0.14 in /usr/local/lib/python3.9/dist-packages (from librosa) (1.1.1)\n",
            "Requirement already satisfied: scikit-learn>=0.20.0 in /usr/local/lib/python3.9/dist-packages (from librosa) (1.2.2)\n",
            "Requirement already satisfied: numba>=0.51.0 in /usr/local/lib/python3.9/dist-packages (from librosa) (0.56.4)\n",
            "Requirement already satisfied: audioread>=2.1.9 in /usr/local/lib/python3.9/dist-packages (from librosa) (3.0.0)\n",
            "Requirement already satisfied: decorator>=4.3.0 in /usr/local/lib/python3.9/dist-packages (from librosa) (4.4.2)\n",
            "Requirement already satisfied: typing-extensions>=4.1.1 in /usr/local/lib/python3.9/dist-packages (from librosa) (4.5.0)\n",
            "Requirement already satisfied: soxr>=0.3.2 in /usr/local/lib/python3.9/dist-packages (from librosa) (0.3.4)\n",
            "Requirement already satisfied: soundfile>=0.12.1 in /usr/local/lib/python3.9/dist-packages (from librosa) (0.12.1)\n",
            "Requirement already satisfied: lazy-loader>=0.1 in /usr/local/lib/python3.9/dist-packages (from librosa) (0.2)\n",
            "Requirement already satisfied: numpy!=1.22.0,!=1.22.1,!=1.22.2,>=1.20.3 in /usr/local/lib/python3.9/dist-packages (from librosa) (1.22.4)\n",
            "Requirement already satisfied: msgpack>=1.0 in /usr/local/lib/python3.9/dist-packages (from librosa) (1.0.5)\n",
            "Requirement already satisfied: scipy>=1.2.0 in /usr/local/lib/python3.9/dist-packages (from librosa) (1.10.1)\n",
            "Requirement already satisfied: llvmlite<0.40,>=0.39.0dev0 in /usr/local/lib/python3.9/dist-packages (from numba>=0.51.0->librosa) (0.39.1)\n",
            "Requirement already satisfied: setuptools in /usr/local/lib/python3.9/dist-packages (from numba>=0.51.0->librosa) (67.6.1)\n",
            "Requirement already satisfied: packaging>=20.0 in /usr/local/lib/python3.9/dist-packages (from pooch<1.7,>=1.0->librosa) (23.0)\n",
            "Requirement already satisfied: requests>=2.19.0 in /usr/local/lib/python3.9/dist-packages (from pooch<1.7,>=1.0->librosa) (2.27.1)\n",
            "Requirement already satisfied: appdirs>=1.3.0 in /usr/local/lib/python3.9/dist-packages (from pooch<1.7,>=1.0->librosa) (1.4.4)\n",
            "Requirement already satisfied: threadpoolctl>=2.0.0 in /usr/local/lib/python3.9/dist-packages (from scikit-learn>=0.20.0->librosa) (3.1.0)\n",
            "Requirement already satisfied: cffi>=1.0 in /usr/local/lib/python3.9/dist-packages (from soundfile>=0.12.1->librosa) (1.15.1)\n",
            "Requirement already satisfied: pycparser in /usr/local/lib/python3.9/dist-packages (from cffi>=1.0->soundfile>=0.12.1->librosa) (2.21)\n",
            "Requirement already satisfied: urllib3<1.27,>=1.21.1 in /usr/local/lib/python3.9/dist-packages (from requests>=2.19.0->pooch<1.7,>=1.0->librosa) (1.26.15)\n",
            "Requirement already satisfied: charset-normalizer~=2.0.0 in /usr/local/lib/python3.9/dist-packages (from requests>=2.19.0->pooch<1.7,>=1.0->librosa) (2.0.12)\n",
            "Requirement already satisfied: idna<4,>=2.5 in /usr/local/lib/python3.9/dist-packages (from requests>=2.19.0->pooch<1.7,>=1.0->librosa) (3.4)\n",
            "Requirement already satisfied: certifi>=2017.4.17 in /usr/local/lib/python3.9/dist-packages (from requests>=2.19.0->pooch<1.7,>=1.0->librosa) (2022.12.7)\n"
          ]
        }
      ],
      "source": [
        "pip install librosa"
      ]
    },
    {
      "cell_type": "code",
      "execution_count": 4,
      "metadata": {
        "id": "bJwMp0vptlKv"
      },
      "outputs": [],
      "source": [
        "from praatio import textgrid\n",
        "from pydub import AudioSegment\n",
        "import os\n",
        "import random\n",
        "import shutil\n",
        "import json\n",
        "import librosa"
      ]
    },
    {
      "cell_type": "code",
      "execution_count": 5,
      "metadata": {
        "colab": {
          "base_uri": "https://localhost:8080/"
        },
        "id": "EBK4PBYnkAo4",
        "outputId": "21c7c9a0-d8e3-422d-b8fe-955746a8b8a3"
      },
      "outputs": [
        {
          "output_type": "stream",
          "name": "stdout",
          "text": [
            "Mounted at /content/drive\n"
          ]
        }
      ],
      "source": [
        "from google.colab import drive\n",
        "drive.mount('/content/drive')"
      ]
    },
    {
      "cell_type": "markdown",
      "metadata": {
        "id": "UzV56ftrayhC"
      },
      "source": [
        "Step 1: text train split based on the original set provided"
      ]
    },
    {
      "cell_type": "code",
      "execution_count": 7,
      "metadata": {
        "id": "6GLOPrPGA3OP",
        "colab": {
          "base_uri": "https://localhost:8080/",
          "height": 105
        },
        "outputId": "d8bb0061-2b09-4360-bfef-349c274c8663"
      },
      "outputs": [
        {
          "output_type": "execute_result",
          "data": {
            "text/plain": [
              "'src_transcript_dir = \\'/content/drive/MyDrive/Colab Notebooks/AI6127 NLP/GroupProject/Data/transcripts/original\\'\\ndst_transcript_train_dir = \\'/content/drive/MyDrive/Colab Notebooks/AI6127 NLP/GroupProject/Data/transcripts/train\\'\\ndst_transcript_test_dir = \\'/content/drive/MyDrive/Colab Notebooks/AI6127 NLP/GroupProject/Data/transcripts/test\\'\\n#test_train_split(src_transcript_dir,dst_transcript_dir,num);\\n\\n##splitting audio for train and test\\n# src_audio_dir = \\'/content/drive/MyDrive/Colab Notebooks/AI6127 NLP/GroupProject/Data/audio/original\\'\\n\\n# not required\\n# dst_audio_train_dir = \\'/content/drive/MyDrive/Colab Notebooks/AI6127 NLP/GroupProject/Data/audio/train\\'\\n# dst_audio_test_dir = \\'/content/drive/MyDrive/Colab Notebooks/AI6127 NLP/GroupProject/Data/audio/test\\'\\n\\n\\ntextgrid_folder_train = \"/content/drive/MyDrive/Colab Notebooks/AI6127 NLP/GroupProject/Data/transcripts_processed/train\"\\ntextgrid_folder_test = \"/content/drive/MyDrive/Colab Notebooks/AI6127 NLP/GroupProject/Data/transcripts_processed/test\"\\n\\naudio_folder_train = \"/content/drive/MyDrive/Colab Notebooks/AI6127 NLP/GroupProject/Data/audio_processed/\"\\n\\n# audio_folder_test = \"/content/drive/MyDrive/Colab Notebooks/AI6127 NLP/GroupProject/Data/audio_processed/test\"'"
            ],
            "application/vnd.google.colaboratory.intrinsic+json": {
              "type": "string"
            }
          },
          "metadata": {},
          "execution_count": 7
        }
      ],
      "source": [
        "##Define the tier name, input/out for audio and textgrid files\n",
        "\n",
        "tier_name = \"channel1_S1\" # Replace this with the actual name of the tier you want to work with\n",
        "\n",
        "root_dir = '/content/drive/MyDrive/Colab Notebooks/AI6127 NLP/GroupProject/Data/' \n",
        "\n",
        "# Input original and output target processed transcripts\n",
        "input_transcript_folder = root_dir + \"transcripts/transcript_original\"\n",
        " \n",
        " ## Input and target for audio and target split audio files \n",
        "input_audio_folder = root_dir + 'audio/audio_original/'\n",
        "\n",
        "\n",
        "target_audio_dir = root_dir + 'audio/audio_processed/'\n",
        "\n",
        "# Check if the target audio directory exists\n",
        "if not os.path.exists(target_audio_dir):\n",
        "    # Create the directory if it doesn't exist\n",
        "    os.makedirs(target_audio_dir)"
      ]
    },
    {
      "cell_type": "code",
      "execution_count": 9,
      "metadata": {
        "id": "Q4fXv_hzMlxV"
      },
      "outputs": [],
      "source": [
        "\n",
        "def extract_intervals(textgrid_file, tier_name):\n",
        " tg = textgrid.openTextgrid(textgrid_file,False)\n",
        " tier = tg.getTier(tier_name)\n",
        " intervals = [(entry.start, entry.end, entry.label) for entry in tier.entries if entry.label != \"<Z>\"]\n",
        " return intervals\n"
      ]
    },
    {
      "cell_type": "code",
      "execution_count": 10,
      "metadata": {
        "id": "Mj8KvPeVw0Yh"
      },
      "outputs": [],
      "source": [
        "def split_wav_file(input_file, start_time, end_time, output_file):\n",
        "# Load the input .wav file\n",
        "    audio = AudioSegment.from_wav(input_file)\n",
        "    # Convert start and end time to milliseconds\n",
        "    start_time_ms = start_time * 1000\n",
        "    end_time_ms = end_time * 1000\n",
        "    # Slice the audio\n",
        "    sliced_audio = audio[start_time_ms:end_time_ms]\n",
        "    # Export the sliced audio to a new .wav file\n",
        "    sliced_audio.export(output_file, format=\"wav\")"
      ]
    },
    {
      "cell_type": "code",
      "source": [
        "import os\n",
        "import random\n",
        "\n",
        "list_of_training_dicts = []\n",
        "total = 0\n",
        "# Loop through all training convo files in the folder, slice them into tiny sentence audio\n",
        "for instance, filename in enumerate(os.listdir(input_transcript_folder)):\n",
        "    print(\"completed: \", instance)\n",
        "    # Check if the current item is a file\n",
        "    tg_file = os.path.join(input_transcript_folder, filename)\n",
        "    audio_file = os.path.join(input_audio_folder, filename[:-9]+'.wav')\n",
        "    tg_content = extract_intervals(tg_file, tier_name)\n",
        "    for i, e in enumerate(tg_content):\n",
        "        total += 1\n",
        "        output_audio_file = target_audio_dir + filename[:-13]+ '-' + str(i) +  '.wav'\n",
        "        split_wav_file(audio_file, e[0], e[1], output_audio_file)\n",
        "        d = {'audio_filepath':output_audio_file, 'duration':e[1]-e[0], 'text':e[2] }\n",
        "        list_of_training_dicts.append(d)\n",
        "print(f\"we have total {total} training instances. successfully processed\")\n",
        "\n",
        "\n",
        "# Loop through all sliced dict data, write to train/validation/test manifest \n",
        "train_manifest, validation_manifest, test_manifest = root_dir + 'manifest_train.json', root_dir + 'manifest_validation.json', root_dir + 'manifest_test.json'\n",
        "with open(train_manifest, 'w') as tm:\n",
        "    with open(validation_manifest, 'w') as vm:\n",
        "        with open(test_manifest, 'w') as tem:\n",
        "            for i, d in enumerate(list_of_training_dicts):\n",
        "                d['duration'] = round(d['duration'], 2)\n",
        "                rv = random.random()\n",
        "                # Test\n",
        "                if rv  < 0.15: \n",
        "                    #json.dump(d, tem)\n",
        "                    tem.write(str(d)) \n",
        "                    tem.write('\\n') \n",
        "                #validation\n",
        "                elif rv >= 0.15 and rv < 0.3: \n",
        "                    vm.write(str(d))\n",
        "                    vm.write('\\n') \n",
        "                # train\n",
        "                else: \n",
        "                    tm.write(str(d))\n",
        "                    tm.write('\\n') \n",
        "                if i % 1000 == 0:\n",
        "                    print(\"Completed: \", i)\n",
        "\n",
        "\n"
      ],
      "metadata": {
        "id": "62zCtKGQRQkt",
        "colab": {
          "base_uri": "https://localhost:8080/"
        },
        "outputId": "338d1ade-5fd8-4aad-f689-cb6b1bff87a4"
      },
      "execution_count": 12,
      "outputs": [
        {
          "output_type": "stream",
          "name": "stdout",
          "text": [
            "completed:  0\n",
            "completed:  1\n",
            "completed:  2\n",
            "completed:  3\n",
            "completed:  4\n",
            "completed:  5\n",
            "completed:  6\n",
            "completed:  7\n",
            "completed:  8\n",
            "completed:  9\n",
            "completed:  10\n",
            "completed:  11\n",
            "completed:  12\n",
            "completed:  13\n",
            "completed:  14\n",
            "completed:  15\n",
            "completed:  16\n",
            "completed:  17\n",
            "completed:  18\n",
            "completed:  19\n",
            "completed:  20\n",
            "completed:  21\n",
            "completed:  22\n",
            "completed:  23\n",
            "completed:  24\n",
            "completed:  25\n",
            "completed:  26\n",
            "completed:  27\n",
            "completed:  28\n",
            "completed:  29\n",
            "completed:  30\n",
            "completed:  31\n",
            "completed:  32\n",
            "completed:  33\n",
            "completed:  34\n",
            "completed:  35\n",
            "completed:  36\n",
            "completed:  37\n",
            "completed:  38\n",
            "completed:  39\n",
            "completed:  40\n",
            "completed:  41\n",
            "completed:  42\n",
            "completed:  43\n",
            "completed:  44\n",
            "completed:  45\n",
            "completed:  46\n",
            "completed:  47\n",
            "completed:  48\n",
            "completed:  49\n",
            "completed:  50\n",
            "completed:  51\n",
            "completed:  52\n",
            "completed:  53\n",
            "completed:  54\n",
            "completed:  55\n",
            "completed:  56\n",
            "completed:  57\n"
          ]
        }
      ]
    },
    {
      "cell_type": "code",
      "source": [
        "# Print total instance processed\n",
        "len(list_of_training_dicts)\n"
      ],
      "metadata": {
        "id": "IHjWu_57RRBA",
        "colab": {
          "base_uri": "https://localhost:8080/"
        },
        "outputId": "21ce0fc8-56d2-4774-e617-fc94846015ba"
      },
      "execution_count": 20,
      "outputs": [
        {
          "output_type": "execute_result",
          "data": {
            "text/plain": [
              "7557"
            ]
          },
          "metadata": {},
          "execution_count": 20
        }
      ]
    }
  ],
  "metadata": {
    "colab": {
      "provenance": []
    },
    "kernelspec": {
      "display_name": "Python 3",
      "name": "python3"
    },
    "language_info": {
      "name": "python"
    },
    "gpuClass": "standard"
  },
  "nbformat": 4,
  "nbformat_minor": 0
}