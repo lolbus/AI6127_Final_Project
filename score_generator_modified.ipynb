{
  "nbformat": 4,
  "nbformat_minor": 0,
  "metadata": {
    "colab": {
      "provenance": [],
      "machine_shape": "hm"
    },
    "kernelspec": {
      "name": "python3",
      "display_name": "Python 3"
    },
    "language_info": {
      "name": "python"
    },
    "gpuClass": "premium",
    "accelerator": "TPU"
  },
  "cells": [
    {
      "cell_type": "code",
      "execution_count": null,
      "metadata": {
        "id": "o0WrASN7Utm9"
      },
      "outputs": [],
      "source": [
        "!pip install transformers\n"
      ]
    },
    {
      "cell_type": "code",
      "source": [
        "# Essential Code to do when running colab. Not sure why Colab expect users to memorize this.\n",
        "from google.colab import drive\n",
        "import torch\n",
        "root_dir = '/content/drive/My Drive/Colab Notebooks/' # Set to location of your repo\n",
        "drive.mount('/content/drive', force_remount=True)"
      ],
      "metadata": {
        "id": "HywdP5OuWjao"
      },
      "execution_count": null,
      "outputs": []
    },
    {
      "cell_type": "code",
      "source": [
        "#from transformers import pipeline\n",
        "import pandas as pd\n",
        "import time as time\n",
        "from transformers import pipeline\n",
        "\n",
        "# Load the BART-large MNLI model\n",
        "classifier = pipeline(\"zero-shot-classification\", model=\"facebook/bart-large-mnli\")\n",
        "\n",
        "# Load the conversations from the CSV file\n",
        "df1 = pd.read_csv(root_dir + \"AI6127_Final_Project/Finance_Emotions_Audio.csv\")\n",
        "\n",
        "# Define the labels for financial investments or the financial/investment/insurance industry\n",
        "candidate_labels = ['Trade Finance','Others']\n",
        "\n"
      ],
      "metadata": {
        "id": "1n_sIOKNcyBx"
      },
      "execution_count": null,
      "outputs": []
    },
    {
      "cell_type": "code",
      "source": [
        "# Create a list to store the probability scores for each conversation\n",
        "scores = []\n",
        "\n",
        "# Iterate over the conversations and calculate the probability score for each one\n",
        "start = time.time()\n",
        "\n",
        "# Load the conversations from the CSV file\n",
        "df1 = pd.read_csv(root_dir + \"AI6127_Final_Project/Finance_Emotions_Audio.csv\")\n",
        "\n",
        "for i, conversation in enumerate(df1[\" Comprehensive Transcript\"]): \n",
        "\n",
        "    result = classifier(conversation, candidate_labels)\n",
        "\n",
        "    if result['labels'][0]==\"Trade Finance\":\n",
        "       print(result['scores'][0])\n",
        "       score=(result['scores'][0])\n",
        "    else:\n",
        "       print(result['scores'][1])\n",
        "       score=(result['scores'][1])\n",
        "\n",
        "    scores.append(score)\n",
        "   \n",
        "\n",
        "print(\"Total Time Taken: \", time.time() - start)\n",
        "\n",
        "# Add the scores to the conversations dataframe\n",
        "df1[\"Importance\"] = scores\n",
        "\n",
        "# Save the updated conversations dataframe to a new CSV file\n",
        "df1.to_csv(root_dir + \"AI6127_Final_Project/Finance_Emotions_Audio_Scored.csv\", index=False)"
      ],
      "metadata": {
        "id": "_n1L-csymADS"
      },
      "execution_count": null,
      "outputs": []
    }
  ]
}