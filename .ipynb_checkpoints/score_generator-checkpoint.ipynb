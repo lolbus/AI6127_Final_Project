{
 "cells": [
  {
   "cell_type": "code",
   "execution_count": 3,
   "id": "1_VtyITOxQBL",
   "metadata": {
    "id": "1_VtyITOxQBL"
   },
   "outputs": [
    {
     "ename": "ModuleNotFoundError",
     "evalue": "No module named 'transformers'",
     "output_type": "error",
     "traceback": [
      "\u001b[1;31m---------------------------------------------------------------------------\u001b[0m",
      "\u001b[1;31mModuleNotFoundError\u001b[0m                       Traceback (most recent call last)",
      "Cell \u001b[1;32mIn[3], line 3\u001b[0m\n\u001b[0;32m      1\u001b[0m \u001b[38;5;66;03m#import pipeline from transformers module\u001b[39;00m\n\u001b[0;32m      2\u001b[0m \u001b[38;5;28;01mimport\u001b[39;00m \u001b[38;5;21;01mpandas\u001b[39;00m \u001b[38;5;28;01mas\u001b[39;00m \u001b[38;5;21;01mpd\u001b[39;00m\n\u001b[1;32m----> 3\u001b[0m \u001b[38;5;28;01mfrom\u001b[39;00m \u001b[38;5;21;01mtransformers\u001b[39;00m \u001b[38;5;28;01mimport\u001b[39;00m pipeline\n\u001b[0;32m      5\u001b[0m \u001b[38;5;66;03m# Load the BART-large MNLI model\u001b[39;00m\n\u001b[0;32m      6\u001b[0m classifier \u001b[38;5;241m=\u001b[39m pipeline(\u001b[38;5;124m\"\u001b[39m\u001b[38;5;124mzero-shot-classification\u001b[39m\u001b[38;5;124m\"\u001b[39m, model\u001b[38;5;241m=\u001b[39m\u001b[38;5;124m\"\u001b[39m\u001b[38;5;124mfacebook/bart-large-mnli\u001b[39m\u001b[38;5;124m\"\u001b[39m)\n",
      "\u001b[1;31mModuleNotFoundError\u001b[0m: No module named 'transformers'"
     ]
    }
   ],
   "source": [
    "#import pipeline from transformers module\n",
    "import pandas as pd\n",
    "from transformers import pipeline\n",
    "\n",
    "# Load the BART-large MNLI model\n",
    "classifier = pipeline(\"zero-shot-classification\", model=\"facebook/bart-large-mnli\")\n",
    "\n",
    "# Load the conversations from the CSV file\n",
    "df1 = pd.read_csv(\"/Call Centre Design 1.csv\")\n",
    "\n",
    "# Define the labels for financial investments or the financial/investment/insurance industry\n",
    "candidate_labels = ['Asset', 'Bond', 'Brokerage', 'Card', 'CDO', 'CLO', 'Collectibles', 'Commodities', 'Credit', 'Cryptocurrency', 'Debt', 'Derivatives', 'Digital', 'ETF', 'Estate', 'Exchange', 'Finance', 'Financial', 'Foreign', 'Fund', 'Gold', 'Green', 'Hedge', 'High-Frequency', 'Infrastructure', 'Insurance', 'Investment', 'IPO', 'Lending', 'Limited', 'Loan', 'Management', 'Master', 'MBS', 'Merchant', 'Municipal', 'Mutual', 'Online', 'Open-End', 'Options', 'Payment', 'Pension', 'Platinum', 'Portfolio', 'Precious', 'Private', 'Processing', 'Real', 'REIT', 'Retirement', 'Reverse', 'Risk', 'Savings', 'Secondary', 'Securities', 'Silver', 'Sovereign', 'Split', 'Structured', 'Tax', 'Trading', 'Treasury', 'Venture', 'Wealth', 'Wine', 'Actuarial', 'Algorithmic', 'Commodities', 'Commercial', 'Employee', 'ESOP', 'Futures', 'Municipal', 'Quantitative', 'Risk']\n",
    "\n",
    "\n",
    "# Create a list to store the probability scores for each conversation\n",
    "scores = []\n",
    "\n",
    "# Iterate over the conversations and calculate the probability score for each one\n",
    "import time as time\n",
    "\n",
    "for conversation in df1[\" Comprehensive Transcript\"]:\n",
    "    startTime = time.time()\n",
    "    print(conversation)\n",
    "    result = classifier(conversation, candidate_labels)\n",
    "    print(result[\"scores\"][0])\n",
    "    scores.append(result[\"scores\"][0])\n",
    "    print(\"End time\", time.time() - startTime)\n",
    "    break\n",
    "\n",
    "# Add the scores to the conversations dataframe\n",
    "df1[\"importance_score\"] = scores\n",
    "\n",
    "# Save the updated conversations dataframe to a new CSV file\n",
    "df1.to_csv(\"/Call_Centre_Design_1_with_scores.csv\", index=False)\n"
   ]
  },
  {
   "cell_type": "code",
   "execution_count": 1,
   "id": "e36524b7",
   "metadata": {},
   "outputs": [],
   "source": [
    "import time as time"
   ]
  },
  {
   "cell_type": "code",
   "execution_count": 2,
   "id": "524bbb3c",
   "metadata": {},
   "outputs": [
    {
     "data": {
      "text/plain": [
       "1679832603.1230254"
      ]
     },
     "execution_count": 2,
     "metadata": {},
     "output_type": "execute_result"
    }
   ],
   "source": [
    "time.time()"
   ]
  },
  {
   "cell_type": "code",
   "execution_count": null,
   "id": "1707799c",
   "metadata": {},
   "outputs": [],
   "source": []
  }
 ],
 "metadata": {
  "colab": {
   "machine_shape": "hm",
   "provenance": []
  },
  "gpuClass": "standard",
  "kernelspec": {
   "display_name": "Python 3 (ipykernel)",
   "language": "python",
   "name": "python3"
  },
  "language_info": {
   "codemirror_mode": {
    "name": "ipython",
    "version": 3
   },
   "file_extension": ".py",
   "mimetype": "text/x-python",
   "name": "python",
   "nbconvert_exporter": "python",
   "pygments_lexer": "ipython3",
   "version": "3.10.9"
  }
 },
 "nbformat": 4,
 "nbformat_minor": 5
}
