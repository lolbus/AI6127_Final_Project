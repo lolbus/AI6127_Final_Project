#import pipeline from transformers module
import pandas as pd
from transformers import pipeline

# Load the BART-large MNLI model
classifier = pipeline("zero-shot-classification", model="facebook/bart-large-mnli")

# Load the conversations from the CSV file
df1 = pd.read_csv("/Call Centre Design 1.csv")

# Define the labels for financial investments or the financial/investment/insurance industry
candidate_labels = ['Asset', 'Bond', 'Brokerage', 'Card', 'CDO', 'CLO', 'Collectibles', 'Commodities', 'Credit', 'Cryptocurrency', 'Debt', 'Derivatives', 'Digital', 'ETF', 'Estate', 'Exchange', 'Finance', 'Financial', 'Foreign', 'Fund', 'Gold', 'Green', 'Hedge', 'High-Frequency', 'Infrastructure', 'Insurance', 'Investment', 'IPO', 'Lending', 'Limited', 'Loan', 'Management', 'Master', 'MBS', 'Merchant', 'Municipal', 'Mutual', 'Online', 'Open-End', 'Options', 'Payment', 'Pension', 'Platinum', 'Portfolio', 'Precious', 'Private', 'Processing', 'Real', 'REIT', 'Retirement', 'Reverse', 'Risk', 'Savings', 'Secondary', 'Securities', 'Silver', 'Sovereign', 'Split', 'Structured', 'Tax', 'Trading', 'Treasury', 'Venture', 'Wealth', 'Wine', 'Actuarial', 'Algorithmic', 'Commodities', 'Commercial', 'Employee', 'ESOP', 'Futures', 'Municipal', 'Quantitative', 'Risk']


# Create a list to store the probability scores for each conversation
scores = []

# Iterate over the conversations and calculate the probability score for each one
for conversation in df1[" Comprehensive Transcript"]:
    print(conversation)
    result = classifier(conversation, candidate_labels)
    print(result["scores"][0])
    scores.append(result["scores"][0])

# Add the scores to the conversations dataframe
df1["importance_score"] = scores

# Save the updated conversations dataframe to a new CSV file
df1.to_csv("/Call_Centre_Design_1_with_scores.csv", index=False)
