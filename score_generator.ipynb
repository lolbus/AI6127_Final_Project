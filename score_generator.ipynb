{
  "cells": [
    {
      "cell_type": "code",
      "source": [
        "#import pipeline from transformers module\n",
        "import pandas as pd\n",
        "from transformers import pipeline\n",
        "\n",
        "# Load the BART-large MNLI model\n",
        "classifier = pipeline(\"zero-shot-classification\", model=\"facebook/bart-large-mnli\")\n",
        "\n",
        "# Load the conversations from the CSV file\n",
        "df1 = pd.read_csv(\"/Call Centre Design 1.csv\")\n",
        "\n",
        "# Define the labels for financial investments or the financial/investment/insurance industry\n",
        "candidate_labels = ['Asset', 'Bond', 'Brokerage', 'Card', 'CDO', 'CLO', 'Collectibles', 'Commodities', 'Credit', 'Cryptocurrency', 'Debt', 'Derivatives', 'Digital', 'ETF', 'Estate', 'Exchange', 'Finance', 'Financial', 'Foreign', 'Fund', 'Gold', 'Green', 'Hedge', 'High-Frequency', 'Infrastructure', 'Insurance', 'Investment', 'IPO', 'Lending', 'Limited', 'Loan', 'Management', 'Master', 'MBS', 'Merchant', 'Municipal', 'Mutual', 'Online', 'Open-End', 'Options', 'Payment', 'Pension', 'Platinum', 'Portfolio', 'Precious', 'Private', 'Processing', 'Real', 'REIT', 'Retirement', 'Reverse', 'Risk', 'Savings', 'Secondary', 'Securities', 'Silver', 'Sovereign', 'Split', 'Structured', 'Tax', 'Trading', 'Treasury', 'Venture', 'Wealth', 'Wine', 'Actuarial', 'Algorithmic', 'Commodities', 'Commercial', 'Employee', 'ESOP', 'Futures', 'Municipal', 'Quantitative', 'Risk']\n",
        "\n",
        "\n",
        "# Create a list to store the probability scores for each conversation\n",
        "scores = []\n",
        "\n",
        "# Iterate over the conversations and calculate the probability score for each one\n",
        "for conversation in df1[\" Comprehensive Transcript\"]:\n",
        "    print(conversation)\n",
        "    result = classifier(conversation, candidate_labels)\n",
        "    print(result[\"scores\"][0])\n",
        "    scores.append(result[\"scores\"][0])\n",
        "\n",
        "# Add the scores to the conversations dataframe\n",
        "df1[\"importance_score\"] = scores\n",
        "\n",
        "# Save the updated conversations dataframe to a new CSV file\n",
        "df1.to_csv(\"/Call_Centre_Design_1_with_scores.csv\", index=False)\n"
      ],
      "metadata": {
        "id": "1_VtyITOxQBL"
      },
      "id": "1_VtyITOxQBL",
      "execution_count": null,
      "outputs": []
    }
  ],
  "metadata": {
    "kernelspec": {
      "display_name": "Python 3",
      "language": "python",
      "name": "python3"
    },
    "language_info": {
      "codemirror_mode": {
        "name": "ipython",
        "version": 3
      },
      "file_extension": ".py",
      "mimetype": "text/x-python",
      "name": "python",
      "nbconvert_exporter": "python",
      "pygments_lexer": "ipython3",
      "version": "3.8.8"
    },
    "colab": {
      "provenance": [],
      "machine_shape": "hm"
    },
    "gpuClass": "standard"
  },
  "nbformat": 4,
  "nbformat_minor": 5
}